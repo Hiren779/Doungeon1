{
 "cells": [
  {
   "cell_type": "code",
   "execution_count": 1,
   "metadata": {},
   "outputs": [
    {
     "name": "stdout",
     "output_type": "stream",
     "text": [
      "\n",
      "fibonnaci series\n",
      "0,\n",
      "1,1,\n",
      "2,3,5,\n",
      "8,13,21,34,\n",
      "55,89,144,233,377,\n"
     ]
    }
   ],
   "source": [
    "def fibonnaci(n):\n",
    "    \n",
    "    count = 0\n",
    "    a = 0\n",
    "    b = 1\n",
    "    if n <= 0:\n",
    "        print(\"cant possible\")\n",
    "    elif n == 1:\n",
    "        print(0)\n",
    "    else:\n",
    "        print(\"fibonnaci series\")\n",
    "        while count < n:\n",
    "            y = a + b\n",
    "            yield a\n",
    "            a,b = b,y\n",
    "            count += 1\n",
    "x = fibonnaci(15)\n",
    "for i in range(6):\n",
    "    for m in range (i):\n",
    "        print(next(x),end=',')\n",
    "    print()"
   ]
  },
  {
   "cell_type": "code",
   "execution_count": null,
   "metadata": {},
   "outputs": [],
   "source": []
  }
 ],
 "metadata": {
  "kernelspec": {
   "display_name": "Python 3",
   "language": "python",
   "name": "python3"
  },
  "language_info": {
   "codemirror_mode": {
    "name": "ipython",
    "version": 3
   },
   "file_extension": ".py",
   "mimetype": "text/x-python",
   "name": "python",
   "nbconvert_exporter": "python",
   "pygments_lexer": "ipython3",
   "version": "3.7.3"
  }
 },
 "nbformat": 4,
 "nbformat_minor": 2
}
